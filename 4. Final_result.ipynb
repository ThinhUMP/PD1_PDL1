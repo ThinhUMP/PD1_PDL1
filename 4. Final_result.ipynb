{
 "cells": [
  {
   "cell_type": "code",
   "execution_count": 1,
   "metadata": {},
   "outputs": [],
   "source": [
    "import pandas as pd\n",
    "gnina_cnn = pd.read_csv(\"./Data/gnina_cnn_screen.csv\")\n",
    "df_ann = pd.read_csv(\"./Data/df_screen_ann.csv\")\n",
    "df_simi = pd.read_csv(\"./Data/simi_screen.csv\")"
   ]
  },
  {
   "cell_type": "code",
   "execution_count": 2,
   "metadata": {},
   "outputs": [
    {
     "data": {
      "text/plain": [
       "(22, 12)"
      ]
     },
     "execution_count": 2,
     "metadata": {},
     "output_type": "execute_result"
    }
   ],
   "source": [
    "import pandas as pd\n",
    "gnina_ann_df = pd.merge(gnina_cnn, df_ann, left_on='0', right_on='ID')\n",
    "gnina_ann_df.shape"
   ]
  },
  {
   "cell_type": "code",
   "execution_count": 3,
   "metadata": {},
   "outputs": [
    {
     "data": {
      "text/plain": [
       "(22, 16)"
      ]
     },
     "execution_count": 3,
     "metadata": {},
     "output_type": "execute_result"
    }
   ],
   "source": [
    "merged_df = pd.merge(gnina_ann_df, df_simi, left_on='Name', right_on='Name')\n",
    "merged_df.shape"
   ]
  },
  {
   "cell_type": "code",
   "execution_count": 4,
   "metadata": {},
   "outputs": [],
   "source": [
    "merged_df = merged_df[['ID','Name', 'StandardSmiles_x', 'Proba', 'gnina_CNN_best', 'tanimoto_avalon']]\n",
    "merged_df.gnina_CNN_best = merged_df.gnina_CNN_best * -1"
   ]
  },
  {
   "cell_type": "code",
   "execution_count": 7,
   "metadata": {},
   "outputs": [],
   "source": [
    "df_sorted = merged_df.sort_values('gnina_CNN_best', ascending=False)\n",
    "df_sorted.to_csv(\"./Data/final_result.csv\", index=False)"
   ]
  },
  {
   "cell_type": "code",
   "execution_count": 8,
   "metadata": {},
   "outputs": [
    {
     "data": {
      "text/html": [
       "<div>\n",
       "<style scoped>\n",
       "    .dataframe tbody tr th:only-of-type {\n",
       "        vertical-align: middle;\n",
       "    }\n",
       "\n",
       "    .dataframe tbody tr th {\n",
       "        vertical-align: top;\n",
       "    }\n",
       "\n",
       "    .dataframe thead th {\n",
       "        text-align: right;\n",
       "    }\n",
       "</style>\n",
       "<table border=\"1\" class=\"dataframe\">\n",
       "  <thead>\n",
       "    <tr style=\"text-align: right;\">\n",
       "      <th></th>\n",
       "      <th>ID</th>\n",
       "      <th>Name</th>\n",
       "      <th>StandardSmiles_x</th>\n",
       "      <th>Proba</th>\n",
       "      <th>gnina_CNN_best</th>\n",
       "      <th>tanimoto_avalon</th>\n",
       "    </tr>\n",
       "  </thead>\n",
       "  <tbody>\n",
       "    <tr>\n",
       "      <th>2</th>\n",
       "      <td>screen_22</td>\n",
       "      <td>Fradafiban</td>\n",
       "      <td>N=C(N)c1ccc(-c2ccc(OC[C@@H]3CC(CC(=O)O)C(=O)N3...</td>\n",
       "      <td>69.700005</td>\n",
       "      <td>0.89</td>\n",
       "      <td>0.341463</td>\n",
       "    </tr>\n",
       "    <tr>\n",
       "      <th>9</th>\n",
       "      <td>screen_51</td>\n",
       "      <td>Zomepirac</td>\n",
       "      <td>Cc1cc(CC(=O)O)n(C)c1C(=O)c1ccc(Cl)cc1</td>\n",
       "      <td>65.000000</td>\n",
       "      <td>0.84</td>\n",
       "      <td>0.335347</td>\n",
       "    </tr>\n",
       "    <tr>\n",
       "      <th>12</th>\n",
       "      <td>screen_37</td>\n",
       "      <td>GW-559090</td>\n",
       "      <td>Cc1ccccc1OCC(=O)NC(CC(C)C)C(=O)NC(Cc1ccc(OC(=O...</td>\n",
       "      <td>67.299995</td>\n",
       "      <td>0.82</td>\n",
       "      <td>0.380623</td>\n",
       "    </tr>\n",
       "    <tr>\n",
       "      <th>16</th>\n",
       "      <td>screen_11</td>\n",
       "      <td>(3S)-1-(4-acetylphenyl)-5-oxopyrrolidine-3-car...</td>\n",
       "      <td>CC(=O)c1ccc(N2CC(C(=O)O)CC2=O)cc1</td>\n",
       "      <td>70.500000</td>\n",
       "      <td>0.79</td>\n",
       "      <td>0.353160</td>\n",
       "    </tr>\n",
       "    <tr>\n",
       "      <th>18</th>\n",
       "      <td>screen_42</td>\n",
       "      <td>(2R,4S)-2-[(1R)-1-{[(2R)-2-Amino-2-(4-hydroxyp...</td>\n",
       "      <td>CC1(C)S[C@H](C(C=O)NC(=O)C(N)c2ccc(O)cc2)NC1C(...</td>\n",
       "      <td>66.100000</td>\n",
       "      <td>0.76</td>\n",
       "      <td>0.329577</td>\n",
       "    </tr>\n",
       "  </tbody>\n",
       "</table>\n",
       "</div>"
      ],
      "text/plain": [
       "           ID                                               Name  \\\n",
       "2   screen_22                                         Fradafiban   \n",
       "9   screen_51                                          Zomepirac   \n",
       "12  screen_37                                          GW-559090   \n",
       "16  screen_11  (3S)-1-(4-acetylphenyl)-5-oxopyrrolidine-3-car...   \n",
       "18  screen_42  (2R,4S)-2-[(1R)-1-{[(2R)-2-Amino-2-(4-hydroxyp...   \n",
       "\n",
       "                                     StandardSmiles_x      Proba  \\\n",
       "2   N=C(N)c1ccc(-c2ccc(OC[C@@H]3CC(CC(=O)O)C(=O)N3...  69.700005   \n",
       "9               Cc1cc(CC(=O)O)n(C)c1C(=O)c1ccc(Cl)cc1  65.000000   \n",
       "12  Cc1ccccc1OCC(=O)NC(CC(C)C)C(=O)NC(Cc1ccc(OC(=O...  67.299995   \n",
       "16                  CC(=O)c1ccc(N2CC(C(=O)O)CC2=O)cc1  70.500000   \n",
       "18  CC1(C)S[C@H](C(C=O)NC(=O)C(N)c2ccc(O)cc2)NC1C(...  66.100000   \n",
       "\n",
       "    gnina_CNN_best  tanimoto_avalon  \n",
       "2             0.89         0.341463  \n",
       "9             0.84         0.335347  \n",
       "12            0.82         0.380623  \n",
       "16            0.79         0.353160  \n",
       "18            0.76         0.329577  "
      ]
     },
     "execution_count": 8,
     "metadata": {},
     "output_type": "execute_result"
    }
   ],
   "source": [
    "final = pd.read_csv(\"./Data/final_result.csv\")\n",
    "final[(final['Proba']>=65) & (final['gnina_CNN_best']>=0.7)]"
   ]
  },
  {
   "cell_type": "code",
   "execution_count": 11,
   "metadata": {},
   "outputs": [],
   "source": [
    "smile_txt = final['StandardSmiles_x']\n",
    "smile_txt.to_csv('./Data/smile_final.txt', index=False, header = False)"
   ]
  }
 ],
 "metadata": {
  "kernelspec": {
   "display_name": "tensorflow",
   "language": "python",
   "name": "python3"
  },
  "language_info": {
   "codemirror_mode": {
    "name": "ipython",
    "version": 3
   },
   "file_extension": ".py",
   "mimetype": "text/x-python",
   "name": "python",
   "nbconvert_exporter": "python",
   "pygments_lexer": "ipython3",
   "version": "3.9.18"
  }
 },
 "nbformat": 4,
 "nbformat_minor": 2
}
